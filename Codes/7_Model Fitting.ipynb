{
 "cells": [
  {
   "cell_type": "markdown",
   "metadata": {},
   "source": [
    "1. NN, SVM  - Jiaming\n",
    "2. Logistic Regression, Lasso, Ridge - Ziwei\n",
    "3. Tree, Random Forest, Boosting - Tianyi"
   ]
  },
  {
   "cell_type": "code",
   "execution_count": 1,
   "metadata": {},
   "outputs": [],
   "source": [
    "import matplotlib.pyplot as plt\n",
    "%matplotlib inline\n",
    "import matplotlib.colors\n",
    "\n",
    "import pandas as pd\n",
    "import numpy as np\n",
    "import os\n",
    "import pickle as pkl\n",
    "\n",
    "from datetime import datetime, timedelta\n",
    "from collections import Counter\n",
    "import seaborn as sns\n",
    "import json\n"
   ]
  },
  {
   "cell_type": "code",
   "execution_count": 3,
   "metadata": {},
   "outputs": [],
   "source": [
    "from sklearn import preprocessing\n",
    "from sklearn.metrics import precision_score, accuracy_score, recall_score, roc_auc_score, confusion_matrix, roc_curve\n",
    "from sklearn.linear_model import LogisticRegression"
   ]
  },
  {
   "cell_type": "code",
   "execution_count": 71,
   "metadata": {},
   "outputs": [],
   "source": [
    "from sklearn.cross_validation import train_test_split"
   ]
  },
  {
   "cell_type": "markdown",
   "metadata": {},
   "source": [
    "## Step 1. Understanding the Data"
   ]
  },
  {
   "cell_type": "code",
   "execution_count": 101,
   "metadata": {},
   "outputs": [
    {
     "data": {
      "text/plain": [
       "uid                             float64\n",
       "churn                          category\n",
       "device                           object\n",
       "freq_last_30_days_play            int64\n",
       "mean_last_30_days_play_time     float64\n",
       "freq_last_14_days_play          float64\n",
       "mean_last_14_days_play_time     float64\n",
       "freq_last_7_days_play           float64\n",
       "mean_last_7_days_play_time      float64\n",
       "freq_last_3_days_play           float64\n",
       "mean_last_3_days_play_time      float64\n",
       "freq_last_1_days_play           float64\n",
       "mean_last_1_days_play_time      float64\n",
       "freq_last_30_days_search        float64\n",
       "freq_last_14_days_search        float64\n",
       "freq_last_7_days_search         float64\n",
       "freq_last_3_days_search         float64\n",
       "freq_last_1_days_search         float64\n",
       "freq_last_30_days_download      float64\n",
       "freq_last_14_days_download      float64\n",
       "freq_last_7_days_download       float64\n",
       "freq_last_3_days_download       float64\n",
       "freq_last_1_days_download       float64\n",
       "dtype: object"
      ]
     },
     "execution_count": 101,
     "metadata": {},
     "output_type": "execute_result"
    }
   ],
   "source": [
    "df = pd.read_csv('../Data/sample_1.csv', dtype={'churn': 'category'})\n",
    "df.dtypes"
   ]
  },
  {
   "cell_type": "code",
   "execution_count": 103,
   "metadata": {},
   "outputs": [
    {
     "data": {
      "text/plain": [
       "Index(['device', 'freq_last_30_days_play', 'mean_last_30_days_play_time',\n",
       "       'freq_last_14_days_play', 'mean_last_14_days_play_time',\n",
       "       'freq_last_7_days_play', 'mean_last_7_days_play_time',\n",
       "       'freq_last_3_days_play', 'mean_last_3_days_play_time',\n",
       "       'freq_last_1_days_play', 'mean_last_1_days_play_time',\n",
       "       'freq_last_30_days_search', 'freq_last_14_days_search',\n",
       "       'freq_last_7_days_search', 'freq_last_3_days_search',\n",
       "       'freq_last_1_days_search', 'freq_last_30_days_download',\n",
       "       'freq_last_14_days_download', 'freq_last_7_days_download',\n",
       "       'freq_last_3_days_download', 'freq_last_1_days_download'],\n",
       "      dtype='object')"
      ]
     },
     "execution_count": 103,
     "metadata": {},
     "output_type": "execute_result"
    }
   ],
   "source": [
    "features = df.columns[2:]\n",
    "features"
   ]
  },
  {
   "cell_type": "markdown",
   "metadata": {},
   "source": [
    "***NEEDS FOLLOW-UP! EXPECT EVEN SPLIT BETWEEN 0 AND 1*** "
   ]
  },
  {
   "cell_type": "code",
   "execution_count": 104,
   "metadata": {},
   "outputs": [
    {
     "data": {
      "text/plain": [
       "0    527\n",
       "1    164\n",
       "Name: churn, dtype: int64"
      ]
     },
     "execution_count": 104,
     "metadata": {},
     "output_type": "execute_result"
    }
   ],
   "source": [
    "target = df['churn']\n",
    "target.value_counts()"
   ]
  },
  {
   "cell_type": "markdown",
   "metadata": {},
   "source": [
    "## Step 2. Normalize Numeric Features, One-Hot-Code Categorical Features"
   ]
  },
  {
   "cell_type": "code",
   "execution_count": 105,
   "metadata": {},
   "outputs": [
    {
     "data": {
      "text/html": [
       "<div>\n",
       "<style scoped>\n",
       "    .dataframe tbody tr th:only-of-type {\n",
       "        vertical-align: middle;\n",
       "    }\n",
       "\n",
       "    .dataframe tbody tr th {\n",
       "        vertical-align: top;\n",
       "    }\n",
       "\n",
       "    .dataframe thead th {\n",
       "        text-align: right;\n",
       "    }\n",
       "</style>\n",
       "<table border=\"1\" class=\"dataframe\">\n",
       "  <thead>\n",
       "    <tr style=\"text-align: right;\">\n",
       "      <th></th>\n",
       "      <th>both</th>\n",
       "      <th>ip</th>\n",
       "    </tr>\n",
       "  </thead>\n",
       "  <tbody>\n",
       "    <tr>\n",
       "      <th>0</th>\n",
       "      <td>1</td>\n",
       "      <td>0</td>\n",
       "    </tr>\n",
       "    <tr>\n",
       "      <th>1</th>\n",
       "      <td>1</td>\n",
       "      <td>0</td>\n",
       "    </tr>\n",
       "    <tr>\n",
       "      <th>2</th>\n",
       "      <td>0</td>\n",
       "      <td>0</td>\n",
       "    </tr>\n",
       "    <tr>\n",
       "      <th>3</th>\n",
       "      <td>0</td>\n",
       "      <td>0</td>\n",
       "    </tr>\n",
       "    <tr>\n",
       "      <th>4</th>\n",
       "      <td>1</td>\n",
       "      <td>0</td>\n",
       "    </tr>\n",
       "  </tbody>\n",
       "</table>\n",
       "</div>"
      ],
      "text/plain": [
       "   both  ip\n",
       "0     1   0\n",
       "1     1   0\n",
       "2     0   0\n",
       "3     0   0\n",
       "4     1   0"
      ]
     },
     "execution_count": 105,
     "metadata": {},
     "output_type": "execute_result"
    }
   ],
   "source": [
    "device_dummies = pd.get_dummies(df[features[0]], drop_first=True)\n",
    "device_dummies.head()"
   ]
  },
  {
   "cell_type": "code",
   "execution_count": 22,
   "metadata": {},
   "outputs": [],
   "source": [
    "scaler = preprocessing.StandardScaler().fit(df[features[1: ]])\n",
    "x_scaled = scaler.transform(df[features[1: ]])"
   ]
  },
  {
   "cell_type": "code",
   "execution_count": 36,
   "metadata": {
    "scrolled": true
   },
   "outputs": [
    {
     "data": {
      "text/plain": [
       "(array([ 559, 3167,  199, 1188,   88,  285,   41,  559,   13,  546,   47,\n",
       "          13,    5,    2,    1,   42,    7,    3,    1,    0]),\n",
       " array([  533, 17147,   247, 11475,   126,  2624,    77,  8997,    30,\n",
       "         8593,    56,    22,    11,     5,     3,   101,    24,    15,\n",
       "            9,     3]),\n",
       " Index(['freq_last_30_days_play', 'mean_last_30_days_play_time',\n",
       "        'freq_last_14_days_play', 'mean_last_14_days_play_time',\n",
       "        'freq_last_7_days_play', 'mean_last_7_days_play_time',\n",
       "        'freq_last_3_days_play', 'mean_last_3_days_play_time',\n",
       "        'freq_last_1_days_play', 'mean_last_1_days_play_time',\n",
       "        'freq_last_30_days_search', 'freq_last_14_days_search',\n",
       "        'freq_last_7_days_search', 'freq_last_3_days_search',\n",
       "        'freq_last_1_days_search', 'freq_last_30_days_download',\n",
       "        'freq_last_14_days_download', 'freq_last_7_days_download',\n",
       "        'freq_last_3_days_download', 'freq_last_1_days_download'],\n",
       "       dtype='object'))"
      ]
     },
     "execution_count": 36,
     "metadata": {},
     "output_type": "execute_result"
    }
   ],
   "source": [
    "scaler.mean_.astype(int), scaler.scale_.astype(int), features[1:]"
   ]
  },
  {
   "cell_type": "code",
   "execution_count": 78,
   "metadata": {},
   "outputs": [
    {
     "data": {
      "text/html": [
       "<div>\n",
       "<style scoped>\n",
       "    .dataframe tbody tr th:only-of-type {\n",
       "        vertical-align: middle;\n",
       "    }\n",
       "\n",
       "    .dataframe tbody tr th {\n",
       "        vertical-align: top;\n",
       "    }\n",
       "\n",
       "    .dataframe thead th {\n",
       "        text-align: right;\n",
       "    }\n",
       "</style>\n",
       "<table border=\"1\" class=\"dataframe\">\n",
       "  <thead>\n",
       "    <tr style=\"text-align: right;\">\n",
       "      <th></th>\n",
       "      <th>mean</th>\n",
       "      <th>std</th>\n",
       "    </tr>\n",
       "  </thead>\n",
       "  <tbody>\n",
       "    <tr>\n",
       "      <th>freq_last_30_days_play</th>\n",
       "      <td>559</td>\n",
       "      <td>533</td>\n",
       "    </tr>\n",
       "    <tr>\n",
       "      <th>mean_last_30_days_play_time</th>\n",
       "      <td>3167</td>\n",
       "      <td>17147</td>\n",
       "    </tr>\n",
       "    <tr>\n",
       "      <th>freq_last_14_days_play</th>\n",
       "      <td>199</td>\n",
       "      <td>247</td>\n",
       "    </tr>\n",
       "    <tr>\n",
       "      <th>mean_last_14_days_play_time</th>\n",
       "      <td>1188</td>\n",
       "      <td>11475</td>\n",
       "    </tr>\n",
       "    <tr>\n",
       "      <th>freq_last_7_days_play</th>\n",
       "      <td>88</td>\n",
       "      <td>126</td>\n",
       "    </tr>\n",
       "    <tr>\n",
       "      <th>mean_last_7_days_play_time</th>\n",
       "      <td>285</td>\n",
       "      <td>2624</td>\n",
       "    </tr>\n",
       "    <tr>\n",
       "      <th>freq_last_3_days_play</th>\n",
       "      <td>41</td>\n",
       "      <td>77</td>\n",
       "    </tr>\n",
       "    <tr>\n",
       "      <th>mean_last_3_days_play_time</th>\n",
       "      <td>559</td>\n",
       "      <td>8997</td>\n",
       "    </tr>\n",
       "    <tr>\n",
       "      <th>freq_last_1_days_play</th>\n",
       "      <td>13</td>\n",
       "      <td>30</td>\n",
       "    </tr>\n",
       "    <tr>\n",
       "      <th>mean_last_1_days_play_time</th>\n",
       "      <td>546</td>\n",
       "      <td>8593</td>\n",
       "    </tr>\n",
       "    <tr>\n",
       "      <th>freq_last_30_days_search</th>\n",
       "      <td>47</td>\n",
       "      <td>56</td>\n",
       "    </tr>\n",
       "    <tr>\n",
       "      <th>freq_last_14_days_search</th>\n",
       "      <td>13</td>\n",
       "      <td>22</td>\n",
       "    </tr>\n",
       "    <tr>\n",
       "      <th>freq_last_7_days_search</th>\n",
       "      <td>5</td>\n",
       "      <td>11</td>\n",
       "    </tr>\n",
       "    <tr>\n",
       "      <th>freq_last_3_days_search</th>\n",
       "      <td>2</td>\n",
       "      <td>5</td>\n",
       "    </tr>\n",
       "    <tr>\n",
       "      <th>freq_last_1_days_search</th>\n",
       "      <td>1</td>\n",
       "      <td>3</td>\n",
       "    </tr>\n",
       "    <tr>\n",
       "      <th>freq_last_30_days_download</th>\n",
       "      <td>42</td>\n",
       "      <td>101</td>\n",
       "    </tr>\n",
       "    <tr>\n",
       "      <th>freq_last_14_days_download</th>\n",
       "      <td>7</td>\n",
       "      <td>24</td>\n",
       "    </tr>\n",
       "    <tr>\n",
       "      <th>freq_last_7_days_download</th>\n",
       "      <td>3</td>\n",
       "      <td>15</td>\n",
       "    </tr>\n",
       "    <tr>\n",
       "      <th>freq_last_3_days_download</th>\n",
       "      <td>1</td>\n",
       "      <td>9</td>\n",
       "    </tr>\n",
       "    <tr>\n",
       "      <th>freq_last_1_days_download</th>\n",
       "      <td>0</td>\n",
       "      <td>3</td>\n",
       "    </tr>\n",
       "  </tbody>\n",
       "</table>\n",
       "</div>"
      ],
      "text/plain": [
       "                             mean    std\n",
       "freq_last_30_days_play        559    533\n",
       "mean_last_30_days_play_time  3167  17147\n",
       "freq_last_14_days_play        199    247\n",
       "mean_last_14_days_play_time  1188  11475\n",
       "freq_last_7_days_play          88    126\n",
       "mean_last_7_days_play_time    285   2624\n",
       "freq_last_3_days_play          41     77\n",
       "mean_last_3_days_play_time    559   8997\n",
       "freq_last_1_days_play          13     30\n",
       "mean_last_1_days_play_time    546   8593\n",
       "freq_last_30_days_search       47     56\n",
       "freq_last_14_days_search       13     22\n",
       "freq_last_7_days_search         5     11\n",
       "freq_last_3_days_search         2      5\n",
       "freq_last_1_days_search         1      3\n",
       "freq_last_30_days_download     42    101\n",
       "freq_last_14_days_download      7     24\n",
       "freq_last_7_days_download       3     15\n",
       "freq_last_3_days_download       1      9\n",
       "freq_last_1_days_download       0      3"
      ]
     },
     "execution_count": 78,
     "metadata": {},
     "output_type": "execute_result"
    }
   ],
   "source": [
    "pd.DataFrame({'mean': scaler.mean_.astype(int), 'std': scaler.scale_.astype(int)}) \\\n",
    "            .set_index(features[1:])"
   ]
  },
  {
   "cell_type": "code",
   "execution_count": 90,
   "metadata": {},
   "outputs": [],
   "source": [
    "df_scaled = pd.DataFrame(x_scaled, columns=features[1:])"
   ]
  },
  {
   "cell_type": "code",
   "execution_count": 91,
   "metadata": {},
   "outputs": [],
   "source": [
    "df_scaled['device_both'] = device_dummies['both']\n",
    "df_scaled['device_ip'] = device_dummies['ip']\n",
    "df_scaled['churn'] = target\n",
    "df_scaled['uid'] = df['uid'].astype(int).astype(str)"
   ]
  },
  {
   "cell_type": "code",
   "execution_count": 92,
   "metadata": {},
   "outputs": [
    {
     "data": {
      "text/html": [
       "<div>\n",
       "<style scoped>\n",
       "    .dataframe tbody tr th:only-of-type {\n",
       "        vertical-align: middle;\n",
       "    }\n",
       "\n",
       "    .dataframe tbody tr th {\n",
       "        vertical-align: top;\n",
       "    }\n",
       "\n",
       "    .dataframe thead th {\n",
       "        text-align: right;\n",
       "    }\n",
       "</style>\n",
       "<table border=\"1\" class=\"dataframe\">\n",
       "  <thead>\n",
       "    <tr style=\"text-align: right;\">\n",
       "      <th></th>\n",
       "      <th>freq_last_30_days_play</th>\n",
       "      <th>mean_last_30_days_play_time</th>\n",
       "      <th>freq_last_14_days_play</th>\n",
       "      <th>mean_last_14_days_play_time</th>\n",
       "      <th>freq_last_7_days_play</th>\n",
       "      <th>mean_last_7_days_play_time</th>\n",
       "      <th>freq_last_3_days_play</th>\n",
       "      <th>mean_last_3_days_play_time</th>\n",
       "      <th>freq_last_1_days_play</th>\n",
       "      <th>mean_last_1_days_play_time</th>\n",
       "      <th>...</th>\n",
       "      <th>freq_last_3_days_search</th>\n",
       "      <th>freq_last_1_days_search</th>\n",
       "      <th>freq_last_30_days_download</th>\n",
       "      <th>freq_last_14_days_download</th>\n",
       "      <th>freq_last_7_days_download</th>\n",
       "      <th>freq_last_3_days_download</th>\n",
       "      <th>freq_last_1_days_download</th>\n",
       "      <th>device_both</th>\n",
       "      <th>device_ip</th>\n",
       "      <th>churn</th>\n",
       "    </tr>\n",
       "    <tr>\n",
       "      <th>uid</th>\n",
       "      <th></th>\n",
       "      <th></th>\n",
       "      <th></th>\n",
       "      <th></th>\n",
       "      <th></th>\n",
       "      <th></th>\n",
       "      <th></th>\n",
       "      <th></th>\n",
       "      <th></th>\n",
       "      <th></th>\n",
       "      <th></th>\n",
       "      <th></th>\n",
       "      <th></th>\n",
       "      <th></th>\n",
       "      <th></th>\n",
       "      <th></th>\n",
       "      <th></th>\n",
       "      <th></th>\n",
       "      <th></th>\n",
       "      <th></th>\n",
       "      <th></th>\n",
       "    </tr>\n",
       "  </thead>\n",
       "  <tbody>\n",
       "    <tr>\n",
       "      <th>167861376</th>\n",
       "      <td>0.481654</td>\n",
       "      <td>-0.174267</td>\n",
       "      <td>0.257837</td>\n",
       "      <td>-0.085628</td>\n",
       "      <td>-0.562107</td>\n",
       "      <td>-0.041092</td>\n",
       "      <td>-0.535213</td>\n",
       "      <td>-0.062237</td>\n",
       "      <td>-0.452797</td>\n",
       "      <td>-0.063616</td>\n",
       "      <td>...</td>\n",
       "      <td>-0.392095</td>\n",
       "      <td>-0.293072</td>\n",
       "      <td>-0.365525</td>\n",
       "      <td>-0.170855</td>\n",
       "      <td>-0.151449</td>\n",
       "      <td>-0.142095</td>\n",
       "      <td>-0.131610</td>\n",
       "      <td>1</td>\n",
       "      <td>0</td>\n",
       "      <td>0</td>\n",
       "    </tr>\n",
       "    <tr>\n",
       "      <th>168017424</th>\n",
       "      <td>0.429203</td>\n",
       "      <td>-0.179895</td>\n",
       "      <td>0.431480</td>\n",
       "      <td>-0.093230</td>\n",
       "      <td>1.688018</td>\n",
       "      <td>-0.064197</td>\n",
       "      <td>2.459275</td>\n",
       "      <td>-0.048996</td>\n",
       "      <td>5.329093</td>\n",
       "      <td>-0.049439</td>\n",
       "      <td>...</td>\n",
       "      <td>-0.214081</td>\n",
       "      <td>-0.015657</td>\n",
       "      <td>-0.276457</td>\n",
       "      <td>-0.251941</td>\n",
       "      <td>-0.151449</td>\n",
       "      <td>-0.036403</td>\n",
       "      <td>-0.131610</td>\n",
       "      <td>1</td>\n",
       "      <td>0</td>\n",
       "      <td>0</td>\n",
       "    </tr>\n",
       "    <tr>\n",
       "      <th>168273328</th>\n",
       "      <td>-0.117784</td>\n",
       "      <td>-0.177218</td>\n",
       "      <td>0.249761</td>\n",
       "      <td>-0.095690</td>\n",
       "      <td>1.363176</td>\n",
       "      <td>-0.074241</td>\n",
       "      <td>2.833586</td>\n",
       "      <td>-0.052185</td>\n",
       "      <td>5.560368</td>\n",
       "      <td>-0.054508</td>\n",
       "      <td>...</td>\n",
       "      <td>0.141948</td>\n",
       "      <td>0.539173</td>\n",
       "      <td>-0.306146</td>\n",
       "      <td>-0.089769</td>\n",
       "      <td>0.105049</td>\n",
       "      <td>0.386364</td>\n",
       "      <td>1.441791</td>\n",
       "      <td>0</td>\n",
       "      <td>0</td>\n",
       "      <td>0</td>\n",
       "    </tr>\n",
       "    <tr>\n",
       "      <th>168466368</th>\n",
       "      <td>-0.825870</td>\n",
       "      <td>-0.181362</td>\n",
       "      <td>-0.606339</td>\n",
       "      <td>-0.096205</td>\n",
       "      <td>-0.704721</td>\n",
       "      <td>-0.108704</td>\n",
       "      <td>-0.535213</td>\n",
       "      <td>-0.062237</td>\n",
       "      <td>-0.452797</td>\n",
       "      <td>-0.063616</td>\n",
       "      <td>...</td>\n",
       "      <td>-0.392095</td>\n",
       "      <td>-0.293072</td>\n",
       "      <td>-0.395214</td>\n",
       "      <td>-0.292484</td>\n",
       "      <td>-0.215574</td>\n",
       "      <td>-0.142095</td>\n",
       "      <td>-0.131610</td>\n",
       "      <td>0</td>\n",
       "      <td>0</td>\n",
       "      <td>1</td>\n",
       "    </tr>\n",
       "  </tbody>\n",
       "</table>\n",
       "<p>4 rows × 23 columns</p>\n",
       "</div>"
      ],
      "text/plain": [
       "           freq_last_30_days_play  mean_last_30_days_play_time  \\\n",
       "uid                                                              \n",
       "167861376                0.481654                    -0.174267   \n",
       "168017424                0.429203                    -0.179895   \n",
       "168273328               -0.117784                    -0.177218   \n",
       "168466368               -0.825870                    -0.181362   \n",
       "\n",
       "           freq_last_14_days_play  mean_last_14_days_play_time  \\\n",
       "uid                                                              \n",
       "167861376                0.257837                    -0.085628   \n",
       "168017424                0.431480                    -0.093230   \n",
       "168273328                0.249761                    -0.095690   \n",
       "168466368               -0.606339                    -0.096205   \n",
       "\n",
       "           freq_last_7_days_play  mean_last_7_days_play_time  \\\n",
       "uid                                                            \n",
       "167861376              -0.562107                   -0.041092   \n",
       "168017424               1.688018                   -0.064197   \n",
       "168273328               1.363176                   -0.074241   \n",
       "168466368              -0.704721                   -0.108704   \n",
       "\n",
       "           freq_last_3_days_play  mean_last_3_days_play_time  \\\n",
       "uid                                                            \n",
       "167861376              -0.535213                   -0.062237   \n",
       "168017424               2.459275                   -0.048996   \n",
       "168273328               2.833586                   -0.052185   \n",
       "168466368              -0.535213                   -0.062237   \n",
       "\n",
       "           freq_last_1_days_play  mean_last_1_days_play_time  ...    \\\n",
       "uid                                                           ...     \n",
       "167861376              -0.452797                   -0.063616  ...     \n",
       "168017424               5.329093                   -0.049439  ...     \n",
       "168273328               5.560368                   -0.054508  ...     \n",
       "168466368              -0.452797                   -0.063616  ...     \n",
       "\n",
       "           freq_last_3_days_search  freq_last_1_days_search  \\\n",
       "uid                                                           \n",
       "167861376                -0.392095                -0.293072   \n",
       "168017424                -0.214081                -0.015657   \n",
       "168273328                 0.141948                 0.539173   \n",
       "168466368                -0.392095                -0.293072   \n",
       "\n",
       "           freq_last_30_days_download  freq_last_14_days_download  \\\n",
       "uid                                                                 \n",
       "167861376                   -0.365525                   -0.170855   \n",
       "168017424                   -0.276457                   -0.251941   \n",
       "168273328                   -0.306146                   -0.089769   \n",
       "168466368                   -0.395214                   -0.292484   \n",
       "\n",
       "           freq_last_7_days_download  freq_last_3_days_download  \\\n",
       "uid                                                               \n",
       "167861376                  -0.151449                  -0.142095   \n",
       "168017424                  -0.151449                  -0.036403   \n",
       "168273328                   0.105049                   0.386364   \n",
       "168466368                  -0.215574                  -0.142095   \n",
       "\n",
       "           freq_last_1_days_download  device_both  device_ip  churn  \n",
       "uid                                                                  \n",
       "167861376                  -0.131610            1          0      0  \n",
       "168017424                  -0.131610            1          0      0  \n",
       "168273328                   1.441791            0          0      0  \n",
       "168466368                  -0.131610            0          0      1  \n",
       "\n",
       "[4 rows x 23 columns]"
      ]
     },
     "execution_count": 92,
     "metadata": {},
     "output_type": "execute_result"
    }
   ],
   "source": [
    "df_scaled.set_index('uid', inplace=True)\n",
    "df_scaled.head(4)"
   ]
  },
  {
   "cell_type": "code",
   "execution_count": 94,
   "metadata": {},
   "outputs": [
    {
     "data": {
      "text/plain": [
       "22"
      ]
     },
     "execution_count": 94,
     "metadata": {},
     "output_type": "execute_result"
    }
   ],
   "source": [
    "final_features = df_scaled.columns[:-1]\n",
    "len(final_features)"
   ]
  },
  {
   "cell_type": "markdown",
   "metadata": {},
   "source": [
    "## Step 2. Fit Logistic Regression"
   ]
  },
  {
   "cell_type": "code",
   "execution_count": 97,
   "metadata": {},
   "outputs": [],
   "source": [
    "x_train, x_test, y_train, y_test = train_test_split(df_scaled[final_features], df_scaled['churn'], \\\n",
    "                                                    test_size=0.2, random_state=0)"
   ]
  },
  {
   "cell_type": "code",
   "execution_count": 98,
   "metadata": {},
   "outputs": [],
   "source": [
    "model_LR = LogisticRegression()"
   ]
  },
  {
   "cell_type": "code",
   "execution_count": 99,
   "metadata": {},
   "outputs": [],
   "source": [
    "model_LR.fit(x_train, y_train)\n",
    "y_pred = model_LR.predict(x_train)\n",
    "y_prob = model_LR.predict_proba(x_train)[:, 1]"
   ]
  },
  {
   "cell_type": "code",
   "execution_count": null,
   "metadata": {},
   "outputs": [],
   "source": []
  }
 ],
 "metadata": {
  "kernelspec": {
   "display_name": "Python 3",
   "language": "python",
   "name": "python3"
  },
  "language_info": {
   "codemirror_mode": {
    "name": "ipython",
    "version": 3
   },
   "file_extension": ".py",
   "mimetype": "text/x-python",
   "name": "python",
   "nbconvert_exporter": "python",
   "pygments_lexer": "ipython3",
   "version": "3.6.4"
  }
 },
 "nbformat": 4,
 "nbformat_minor": 2
}
